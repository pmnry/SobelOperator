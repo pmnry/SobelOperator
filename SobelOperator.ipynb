{
 "cells": [
  {
   "cell_type": "code",
   "execution_count": 1,
   "metadata": {},
   "outputs": [],
   "source": [
    "### Computation\n",
    "\n",
    "import matplotlib.pyplot as plt\n",
    "import pandas as pd\n",
    "from datetime import datetime\n",
    "import numpy as np\n",
    "import time\n",
    "from sklearn import datasets\n"
   ]
  },
  {
   "cell_type": "code",
   "execution_count": 2,
   "metadata": {},
   "outputs": [],
   "source": [
    "data = datasets.load_digits()\n",
    "X = data.data\n",
    "y = data.target"
   ]
  },
  {
   "cell_type": "code",
   "execution_count": 3,
   "metadata": {},
   "outputs": [],
   "source": [
    "sobol_x = np.asmatrix([[-1, 0, 1],\n",
    "           [-2, 0, 2], \n",
    "           [-1, 0, 1]])\n",
    "\n",
    "sobol_y = np.asmatrix([[1, 2, 1], \n",
    "           [0, 0, 0], \n",
    "           [-1,-2,-1]])\n",
    "\n",
    "def sobolop(px_nb):\n",
    "    \n",
    "    x_p=np.sum(np.diag(np.dot(px_nb, sobol_x.T)))\n",
    "    y_p=np.sum(np.diag(np.dot(px_nb, sobol_y.T)))\n",
    "    \n",
    "    val = np.ceil(np.sqrt(x_p**2 + y_p**2))\n",
    "    \n",
    "    return val"
   ]
  },
  {
   "cell_type": "code",
   "execution_count": 4,
   "metadata": {},
   "outputs": [],
   "source": [
    "height = data.images[0].shape[0]\n",
    "width = data.images[0].shape[1]\n",
    "\n",
    "res = np.zeros((height - 2, width - 2))\n",
    "\n",
    "for i in range(1, height-1):\n",
    "    for j in range(1, width-1):\n",
    "        res[i-1, j-1] = sobolop(np.asmatrix(data.images[0][i-1:i+2,j-1:j+2]))"
   ]
  },
  {
   "cell_type": "code",
   "execution_count": 5,
   "metadata": {},
   "outputs": [
    {
     "name": "stdout",
     "output_type": "stream",
     "text": [
      "0\n"
     ]
    },
    {
     "data": {
      "image/png": "[encoded data removed]",
      "text/plain": [
       "<Figure size 614.4x460.8 with 1 Axes>"
      ]
     },
     "metadata": {},
     "output_type": "display_data"
    }
   ],
   "source": [
    "plt.imshow(res, cmap=plt.cm.gray_r)\n",
    "print(data.target[0])"
   ]
  }
 ],
 "metadata": {
  "kernelspec": {
   "display_name": "Python 3",
   "language": "python",
   "name": "python3"
  },
  "language_info": {
   "codemirror_mode": {
    "name": "ipython",
    "version": 3
   },
   "file_extension": ".py",
   "mimetype": "text/x-python",
   "name": "python",
   "nbconvert_exporter": "python",
   "pygments_lexer": "ipython3",
   "version": "3.6.4"
  },
  "varInspector": {
   "cols": {
    "lenName": 16,
    "lenType": 16,
    "lenVar": 40
   },
   "kernels_config": {
    "python": {
     "delete_cmd_postfix": "",
     "delete_cmd_prefix": "del ",
     "library": "var_list.py",
     "varRefreshCmd": "print(var_dic_list())"
    },
    "r": {
     "delete_cmd_postfix": ") ",
     "delete_cmd_prefix": "rm(",
     "library": "var_list.r",
     "varRefreshCmd": "cat(var_dic_list()) "
    }
   },
   "types_to_exclude": [
    "module",
    "function",
    "builtin_function_or_method",
    "instance",
    "_Feature"
   ],
   "window_display": false
  }
 },
 "nbformat": 4,
 "nbformat_minor": 2
}
